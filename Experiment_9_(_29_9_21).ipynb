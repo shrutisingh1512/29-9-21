{
  "nbformat": 4,
  "nbformat_minor": 0,
  "metadata": {
    "colab": {
      "name": "Experiment 9 ( 29/9/21)",
      "provenance": []
    },
    "kernelspec": {
      "name": "python3",
      "display_name": "Python 3"
    },
    "language_info": {
      "name": "python"
    }
  },
  "cells": [
    {
      "cell_type": "code",
      "metadata": {
        "colab": {
          "base_uri": "https://localhost:8080/"
        },
        "id": "ccSPd778Pjez",
        "outputId": "dbe24c4c-eed4-4b68-97f9-ae561dc51ef2"
      },
      "source": [
        "hash_table = [[] for _ in range(10)]\n",
        "print (hash_table)\n",
        "\n",
        "def insert(hash_table, key, value):\n",
        "\thash_key = hash(key) % len(hash_table)\n",
        "\tkey_exists = False\n",
        "\tbucket = hash_table[hash_key]\t\n",
        "\tfor i, kv in enumerate(bucket):\n",
        "\t\tk, v = kv\n",
        "\t\tif key == k:\n",
        "\t\t\tkey_exists = True \n",
        "\t\t\tbreak\n",
        "\tif key_exists:\n",
        "\t\tbucket[i] = ((key, value))\n",
        "\telse:\n",
        "\t\tbucket.append((key, value))\n",
        "\n",
        "\n",
        "insert(hash_table, 10, 'Nepal')\n",
        "insert(hash_table, 25, 'USA')\n",
        "insert(hash_table, 20, 'India')\n",
        "print (hash_table)\n",
        "\n",
        "def search(hash_table, key):\n",
        "\thash_key = hash(key) % len(hash_table)\t\n",
        "\tbucket = hash_table[hash_key]\n",
        "\tfor i, kv in enumerate(bucket):\n",
        "\t\tk, v = kv\n",
        "\t\tif key == k:\n",
        "\t\t\treturn v\n",
        "\n",
        "print (search(hash_table, 10)) \n",
        "print (search(hash_table, 20)) \n",
        "print (search(hash_table, 30)) "
      ],
      "execution_count": 1,
      "outputs": [
        {
          "output_type": "stream",
          "name": "stdout",
          "text": [
            "[[], [], [], [], [], [], [], [], [], []]\n",
            "[[(10, 'Nepal'), (20, 'India')], [], [], [], [], [(25, 'USA')], [], [], [], []]\n",
            "Nepal\n",
            "India\n",
            "None\n"
          ]
        }
      ]
    }
  ]
}